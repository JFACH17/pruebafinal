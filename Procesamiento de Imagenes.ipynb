{
 "cells": [
  {
   "cell_type": "code",
   "execution_count": 15,
   "id": "0bd829c7",
   "metadata": {},
   "outputs": [],
   "source": [
    "from tensorflow.keras.models import Sequential\n",
    "from tensorflow.keras.layers import Conv2D, MaxPooling2D, Flatten, Dense, Dropout\n",
    "from tensorflow.keras.preprocessing.image import ImageDataGenerator\n",
    "from tensorflow.keras.applications.vgg16 import VGG16\n",
    "from tensorflow.keras.models import Model\n",
    "from sklearn.metrics import confusion_matrix, precision_score, recall_score, f1_score\n",
    "import numpy as np"
   ]
  },
  {
   "cell_type": "code",
   "execution_count": null,
   "id": "60f751ea",
   "metadata": {},
   "outputs": [],
   "source": [
    "# Definir las dimensiones de las imágenes\n",
    "img_width, img_height = 150, 150\n",
    "\n",
    "# Establecer la ruta de los datos de entrenamiento y validación\n",
    "train_data_dir = r'C:\\Users\\HP\\Documents\\Pycham\\pruebafinal\\CarneDataset\\train'\n",
    "validation_data_dir = r'C:\\Users\\HP\\Documents\\Pycham\\pruebafinal\\CarneDataset\\test'\n",
    "\n",
    "# Asegúrate de ajustar estos valores a la cantidad de imágenes que tienes\n",
    "nb_train_samples = 2000\n",
    "nb_validation_samples = 800\n",
    "epochs = 50\n",
    "batch_size = 16\n",
    "\n",
    "# Cargar VGG16 sin la capa superior (fully-connected layer)\n",
    "base_model = VGG16(weights='imagenet', include_top=False, input_shape=(img_width, img_height, 3))\n",
    "\n",
    "# Agregar tus propias capas\n",
    "x = base_model.output\n",
    "x = Flatten()(x)\n",
    "x = Dense(64, activation='relu')(x)\n",
    "x = Dropout(0.5)(x)  # Agregando dropout\n",
    "predictions = Dense(8, activation='softmax')(x)\n",
    "\n",
    "model = Model(inputs=base_model.input, outputs=predictions)\n",
    "\n",
    "# Congelar las capas del modelo base\n",
    "for layer in base_model.layers:\n",
    "    layer.trainable = False\n",
    "\n",
    "# Compilar el modelo\n",
    "model.compile(loss='categorical_crossentropy', optimizer='adam', metrics=['accuracy'])\n",
    "\n",
    "# Preprocesar las imágenes\n",
    "train_datagen = ImageDataGenerator(\n",
    "    rescale=1. / 255,\n",
    "    shear_range=0.2,\n",
    "    zoom_range=0.2,\n",
    "    horizontal_flip=True)  # Aumento de datos\n",
    "\n",
    "test_datagen = ImageDataGenerator(rescale=1. / 255)\n",
    "\n",
    "\n",
    "train_generator = train_datagen.flow_from_directory(\n",
    "    train_data_dir,\n",
    "    target_size=(img_width, img_height),\n",
    "    batch_size=batch_size,\n",
    "    class_mode='categorical'\n",
    ")\n",
    "\n",
    "validation_generator = test_datagen.flow_from_directory(\n",
    "    validation_data_dir,\n",
    "    target_size=(img_width, img_height),\n",
    "    batch_size=batch_size,\n",
    "    class_mode='categorical'\n",
    ")\n",
    "\n",
    "\n",
    "model.fit(\n",
    "    train_generator,\n",
    "    steps_per_epoch=nb_train_samples // batch_size,\n",
    "    epochs=epochs,\n",
    "    validation_data=validation_generator,\n",
    "    validation_steps=nb_validation_samples // batch_size\n",
    ")\n"
   ]
  },
  {
   "cell_type": "code",
   "execution_count": 14,
   "id": "e1b013b0",
   "metadata": {},
   "outputs": [
    {
     "name": "stderr",
     "output_type": "stream",
     "text": [
      "C:\\Users\\HP\\AppData\\Local\\Temp\\ipykernel_15412\\2801828989.py:6: UserWarning: `Model.predict_generator` is deprecated and will be removed in a future version. Please use `Model.predict`, which supports generators.\n",
      "  train_predictions = model.predict_generator(train_generator, steps=train_steps)\n"
     ]
    },
    {
     "name": "stdout",
     "output_type": "stream",
     "text": [
      "WARNING:tensorflow:Your input ran out of data; interrupting training. Make sure that your dataset or generator can generate at least `steps_per_epoch * epochs` batches (in this case, 125 batches). You may need to use the repeat() function when building your dataset.\n"
     ]
    },
    {
     "name": "stderr",
     "output_type": "stream",
     "text": [
      "C:\\Users\\HP\\AppData\\Local\\Temp\\ipykernel_15412\\2801828989.py:11: UserWarning: `Model.predict_generator` is deprecated and will be removed in a future version. Please use `Model.predict`, which supports generators.\n",
      "  validation_predictions = model.predict_generator(validation_generator, steps=validation_steps)\n"
     ]
    },
    {
     "name": "stdout",
     "output_type": "stream",
     "text": [
      "Matriz de confusión del entrenamiento:\n",
      "[[  0   8   3  46   1   4   0]\n",
      " [  0  28   7 144   3  30   1]\n",
      " [  0  17   5  68   1  14   0]\n",
      " [  0 152  40 607  13 136   1]\n",
      " [  0   4   4  27   0   2   0]\n",
      " [  0  30  10 132   6  25   1]\n",
      " [  0   5   2  45   2   9   0]]\n",
      "Matriz de confusión del test:\n",
      "[[  0   0   0   0   0   0   1   0]\n",
      " [  0   0  12   2  22   0  12   0]\n",
      " [  0   0  12   3  68   0  14   0]\n",
      " [  0   0   3   2  33   1   5   1]\n",
      " [  0   0  54  20 294   7  82   2]\n",
      " [  0   0   2   0  12   1   4   0]\n",
      " [  0   0  10   5  72   1  25   1]\n",
      " [  0   0   4   1   9   1   2   0]]\n",
      "\n",
      "Métricas del entrenamiento:\n",
      "Precision: 0.36367443979360364\n",
      "Recall: 0.40722596448254744\n",
      "F1 score: 0.38397307141028536\n",
      "\n",
      "Métricas del test:\n",
      "Precision: 0.37588714733542317\n",
      "Recall: 0.4175\n",
      "F1 score: 0.39513549596444336\n"
     ]
    },
    {
     "name": "stderr",
     "output_type": "stream",
     "text": [
      "C:\\Users\\HP\\AppData\\Local\\Programs\\Python\\Python311\\Lib\\site-packages\\sklearn\\metrics\\_classification.py:1469: UndefinedMetricWarning: Precision is ill-defined and being set to 0.0 in labels with no predicted samples. Use `zero_division` parameter to control this behavior.\n",
      "  _warn_prf(average, modifier, msg_start, len(result))\n",
      "C:\\Users\\HP\\AppData\\Local\\Programs\\Python\\Python311\\Lib\\site-packages\\sklearn\\metrics\\_classification.py:1469: UndefinedMetricWarning: Precision is ill-defined and being set to 0.0 in labels with no predicted samples. Use `zero_division` parameter to control this behavior.\n",
      "  _warn_prf(average, modifier, msg_start, len(result))\n"
     ]
    }
   ],
   "source": [
    "\n",
    "# Generar las predicciones para el conjunto de entrenamiento\n",
    "train_steps = nb_train_samples // batch_size\n",
    "train_predictions = model.predict_generator(train_generator, steps=train_steps)\n",
    "train_predictions = np.argmax(train_predictions, axis=1)\n",
    "\n",
    "# Generar las predicciones para el conjunto de prueba\n",
    "validation_steps = nb_validation_samples // batch_size\n",
    "validation_predictions = model.predict_generator(validation_generator, steps=validation_steps)\n",
    "validation_predictions = np.argmax(validation_predictions, axis=1)\n",
    "\n",
    "# Calcular las matrices de confusión\n",
    "train_confusion_matrix = confusion_matrix(train_generator.classes[:len(train_predictions)], train_predictions)\n",
    "validation_confusion_matrix = confusion_matrix(validation_generator.classes[:len(validation_predictions)], validation_predictions)\n",
    "\n",
    "print('Matriz de confusión del entrenamiento:')\n",
    "print(train_confusion_matrix)\n",
    "print('Matriz de confusión del test:')\n",
    "print(validation_confusion_matrix)\n",
    "\n",
    "# Calcular precision, recall y f1-score para el conjunto de entrenamiento\n",
    "train_precision = precision_score(train_generator.classes[:len(train_predictions)], train_predictions, average='weighted')\n",
    "train_recall = recall_score(train_generator.classes[:len(train_predictions)], train_predictions, average='weighted')\n",
    "train_f1_score = f1_score(train_generator.classes[:len(train_predictions)], train_predictions, average='weighted')\n",
    "\n",
    "print('\\nMétricas del entrenamiento:')\n",
    "print(f'Precision: {train_precision}')\n",
    "print(f'Recall: {train_recall}')\n",
    "print(f'F1 score: {train_f1_score}')\n",
    "\n",
    "# Calcular precision, recall y f1-score para el conjunto de prueba\n",
    "validation_precision = precision_score(validation_generator.classes[:len(validation_predictions)], validation_predictions, average='weighted')\n",
    "validation_recall = recall_score(validation_generator.classes[:len(validation_predictions)], validation_predictions, average='weighted')\n",
    "validation_f1_score = f1_score(validation_generator.classes[:len(validation_predictions)], validation_predictions, average='weighted')\n",
    "\n",
    "print('\\nMétricas del test:')\n",
    "print(f'Precision: {validation_precision}')\n",
    "print(f'Recall: {validation_recall}')\n",
    "print(f'F1 score: {validation_f1_score}')\n"
   ]
  },
  {
   "cell_type": "code",
   "execution_count": null,
   "id": "74cac84f",
   "metadata": {},
   "outputs": [],
   "source": []
  }
 ],
 "metadata": {
  "kernelspec": {
   "display_name": "Python 3 (ipykernel)",
   "language": "python",
   "name": "python3"
  },
  "language_info": {
   "codemirror_mode": {
    "name": "ipython",
    "version": 3
   },
   "file_extension": ".py",
   "mimetype": "text/x-python",
   "name": "python",
   "nbconvert_exporter": "python",
   "pygments_lexer": "ipython3",
   "version": "3.11.3"
  }
 },
 "nbformat": 4,
 "nbformat_minor": 5
}
